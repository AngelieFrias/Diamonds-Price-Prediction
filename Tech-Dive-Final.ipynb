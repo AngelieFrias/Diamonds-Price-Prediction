{
 "cells": [
  {
   "cell_type": "markdown",
   "metadata": {},
   "source": [
    "# Hack.Diversity Tech.Dive Project -- Diamond Price Predictions\n",
    "### Team: FAMS-Tech\n",
    "#### Team Members and their Contributions \n",
    "Ana Veloz Parks: Dashboard\n",
    "\n",
    "Angelie Heredia Frías: Exploratory Data Analysis, Streamlit App, Operations Lead\n",
    "\n",
    "Francheska Diaz: Machine Learning Model\n",
    "\n",
    "Michael Hernandez: Preliminary Research on Machine Learning Models\n",
    "\n",
    "Stanley Jean-Jacques: Data Cleaning\n",
    "\n",
    "-------------------------------------------------------------"
   ]
  },
  {
   "cell_type": "markdown",
   "metadata": {},
   "source": [
    "## Exploratory Data Analysis"
   ]
  },
  {
   "cell_type": "code",
   "execution_count": 2,
   "metadata": {},
   "outputs": [],
   "source": [
    "# Importing necessary libraries\n",
    "import pandas as pd\n",
    "import numpy as np\n",
    "\n",
    "# Libraries for visualizations\n",
    "import seaborn as sns\n",
    "import matplotlib.pyplot as plt\n",
    "%matplotlib inline \n",
    "sns.set(color_codes=True)\n",
    "\n",
    "# Libraries for regression\n",
    "from sklearn.model_selection import train_test_split\n",
    "from sklearn.ensemble import RandomForestRegressor\n",
    "from sklearn.metrics import r2_score\n",
    "from sklearn import metrics\n",
    "\n",
    "# Library for model pickle\n",
    "import pickle"
   ]
  },
  {
   "cell_type": "markdown",
   "metadata": {},
   "source": [
    "##### Data Overview"
   ]
  },
  {
   "cell_type": "code",
   "execution_count": 3,
   "metadata": {},
   "outputs": [
    {
     "name": "stdout",
     "output_type": "stream",
     "text": [
      "Number of rows: 407280\n",
      "Shape of the dataset:  (407280, 12)\n"
     ]
    },
    {
     "data": {
      "text/html": [
       "<div>\n",
       "<style scoped>\n",
       "    .dataframe tbody tr th:only-of-type {\n",
       "        vertical-align: middle;\n",
       "    }\n",
       "\n",
       "    .dataframe tbody tr th {\n",
       "        vertical-align: top;\n",
       "    }\n",
       "\n",
       "    .dataframe thead th {\n",
       "        text-align: right;\n",
       "    }\n",
       "</style>\n",
       "<table border=\"1\" class=\"dataframe\">\n",
       "  <thead>\n",
       "    <tr style=\"text-align: right;\">\n",
       "      <th></th>\n",
       "      <th>index</th>\n",
       "      <th>carat</th>\n",
       "      <th>cut</th>\n",
       "      <th>color</th>\n",
       "      <th>clarity</th>\n",
       "      <th>depth</th>\n",
       "      <th>table</th>\n",
       "      <th>cost (dollars)</th>\n",
       "      <th>length (mm)</th>\n",
       "      <th>width (mm)</th>\n",
       "      <th>height (mm)</th>\n",
       "      <th>year</th>\n",
       "    </tr>\n",
       "  </thead>\n",
       "  <tbody>\n",
       "    <tr>\n",
       "      <th>0</th>\n",
       "      <td>0</td>\n",
       "      <td>0.23</td>\n",
       "      <td>Ideal</td>\n",
       "      <td>E</td>\n",
       "      <td>SI2</td>\n",
       "      <td>61.5</td>\n",
       "      <td>55.0</td>\n",
       "      <td>326</td>\n",
       "      <td>3.95</td>\n",
       "      <td>3.98</td>\n",
       "      <td>2.43</td>\n",
       "      <td>2010</td>\n",
       "    </tr>\n",
       "    <tr>\n",
       "      <th>1</th>\n",
       "      <td>1</td>\n",
       "      <td>0.23</td>\n",
       "      <td>Good</td>\n",
       "      <td>E</td>\n",
       "      <td>VS1</td>\n",
       "      <td>56.9</td>\n",
       "      <td>65.0</td>\n",
       "      <td>327</td>\n",
       "      <td>4.05</td>\n",
       "      <td>4.07</td>\n",
       "      <td>2.31</td>\n",
       "      <td>2010</td>\n",
       "    </tr>\n",
       "    <tr>\n",
       "      <th>2</th>\n",
       "      <td>2</td>\n",
       "      <td>0.29</td>\n",
       "      <td>Premium</td>\n",
       "      <td>I</td>\n",
       "      <td>VS2</td>\n",
       "      <td>62.4</td>\n",
       "      <td>58.0</td>\n",
       "      <td>334</td>\n",
       "      <td>4.20</td>\n",
       "      <td>4.23</td>\n",
       "      <td>2.63</td>\n",
       "      <td>2010</td>\n",
       "    </tr>\n",
       "    <tr>\n",
       "      <th>3</th>\n",
       "      <td>3</td>\n",
       "      <td>0.31</td>\n",
       "      <td>Good</td>\n",
       "      <td>J</td>\n",
       "      <td>SI2</td>\n",
       "      <td>63.3</td>\n",
       "      <td>58.0</td>\n",
       "      <td>335</td>\n",
       "      <td>4.34</td>\n",
       "      <td>4.35</td>\n",
       "      <td>2.75</td>\n",
       "      <td>2010</td>\n",
       "    </tr>\n",
       "    <tr>\n",
       "      <th>4</th>\n",
       "      <td>4</td>\n",
       "      <td>0.24</td>\n",
       "      <td>Very Good</td>\n",
       "      <td>J</td>\n",
       "      <td>VVS2</td>\n",
       "      <td>62.8</td>\n",
       "      <td>57.0</td>\n",
       "      <td>336</td>\n",
       "      <td>3.94</td>\n",
       "      <td>3.96</td>\n",
       "      <td>2.48</td>\n",
       "      <td>2010</td>\n",
       "    </tr>\n",
       "  </tbody>\n",
       "</table>\n",
       "</div>"
      ],
      "text/plain": [
       "   index  carat        cut color clarity  depth  table  cost (dollars)  \\\n",
       "0      0   0.23      Ideal     E     SI2   61.5   55.0             326   \n",
       "1      1   0.23       Good     E     VS1   56.9   65.0             327   \n",
       "2      2   0.29    Premium     I     VS2   62.4   58.0             334   \n",
       "3      3   0.31       Good     J     SI2   63.3   58.0             335   \n",
       "4      4   0.24  Very Good     J    VVS2   62.8   57.0             336   \n",
       "\n",
       "   length (mm)  width (mm)  height (mm)  year  \n",
       "0         3.95        3.98         2.43  2010  \n",
       "1         4.05        4.07         2.31  2010  \n",
       "2         4.20        4.23         2.63  2010  \n",
       "3         4.34        4.35         2.75  2010  \n",
       "4         3.94        3.96         2.48  2010  "
      ]
     },
     "execution_count": 3,
     "metadata": {},
     "output_type": "execute_result"
    }
   ],
   "source": [
    "# Loading the datafile to inspect the first 5 entries\n",
    "# Each row of the dataset is a diamond \n",
    "df = pd.read_csv(\"wholesale_diamonds.csv\")\n",
    "\n",
    "print(\"Number of rows: %i\"%len(df))\n",
    "print('Shape of the dataset: ', df.shape) # Printing total number of rows and columns\n",
    "df.head()"
   ]
  },
  {
   "cell_type": "markdown",
   "metadata": {},
   "source": [
    " "
   ]
  },
  {
   "cell_type": "markdown",
   "metadata": {},
   "source": [
    "To gain a better understanding of the data, we used a table of summary statistics (created using the describe function). The table of summary statistics provides insight into some of the (numerical) variables that need cleaning prior to building the data model. One thing to note about the data, 'carat' has a count of 405,232, making it the only (numerical) variable that doesn't have 407,280 entries and is, therefore, missing data. Next, note that the 'cost (dollars)' variable has a minimum of -998. Based on this information, there are potentially multiple negative cost values that should be dealt with as this is not an accurate representation of how prices work in the real-world. Lastly, the 'length (mm)', 'width (mm)', and 'height (mm)' variables all have minimums of 0. As it is impossible for an object to have zero dimension, these values can cause issues with our data model."
   ]
  },
  {
   "cell_type": "code",
   "execution_count": 4,
   "metadata": {},
   "outputs": [
    {
     "data": {
      "text/html": [
       "<div>\n",
       "<style scoped>\n",
       "    .dataframe tbody tr th:only-of-type {\n",
       "        vertical-align: middle;\n",
       "    }\n",
       "\n",
       "    .dataframe tbody tr th {\n",
       "        vertical-align: top;\n",
       "    }\n",
       "\n",
       "    .dataframe thead th {\n",
       "        text-align: right;\n",
       "    }\n",
       "</style>\n",
       "<table border=\"1\" class=\"dataframe\">\n",
       "  <thead>\n",
       "    <tr style=\"text-align: right;\">\n",
       "      <th></th>\n",
       "      <th>index</th>\n",
       "      <th>carat</th>\n",
       "      <th>depth</th>\n",
       "      <th>table</th>\n",
       "      <th>cost (dollars)</th>\n",
       "      <th>length (mm)</th>\n",
       "      <th>width (mm)</th>\n",
       "      <th>height (mm)</th>\n",
       "      <th>year</th>\n",
       "    </tr>\n",
       "  </thead>\n",
       "  <tbody>\n",
       "    <tr>\n",
       "      <th>count</th>\n",
       "      <td>407280.00</td>\n",
       "      <td>405232.00</td>\n",
       "      <td>407280.00</td>\n",
       "      <td>407280.00</td>\n",
       "      <td>407280.00</td>\n",
       "      <td>407280.00</td>\n",
       "      <td>407280.00</td>\n",
       "      <td>407280.00</td>\n",
       "      <td>407280.00</td>\n",
       "    </tr>\n",
       "    <tr>\n",
       "      <th>mean</th>\n",
       "      <td>16969.50</td>\n",
       "      <td>0.80</td>\n",
       "      <td>61.75</td>\n",
       "      <td>57.46</td>\n",
       "      <td>4372.97</td>\n",
       "      <td>5.73</td>\n",
       "      <td>5.73</td>\n",
       "      <td>3.54</td>\n",
       "      <td>2015.50</td>\n",
       "    </tr>\n",
       "    <tr>\n",
       "      <th>std</th>\n",
       "      <td>9797.65</td>\n",
       "      <td>0.47</td>\n",
       "      <td>1.43</td>\n",
       "      <td>2.24</td>\n",
       "      <td>4503.62</td>\n",
       "      <td>1.12</td>\n",
       "      <td>1.11</td>\n",
       "      <td>0.71</td>\n",
       "      <td>3.45</td>\n",
       "    </tr>\n",
       "    <tr>\n",
       "      <th>min</th>\n",
       "      <td>0.00</td>\n",
       "      <td>0.20</td>\n",
       "      <td>43.00</td>\n",
       "      <td>43.00</td>\n",
       "      <td>-998.00</td>\n",
       "      <td>0.00</td>\n",
       "      <td>0.00</td>\n",
       "      <td>0.00</td>\n",
       "      <td>2010.00</td>\n",
       "    </tr>\n",
       "    <tr>\n",
       "      <th>25%</th>\n",
       "      <td>8484.75</td>\n",
       "      <td>0.40</td>\n",
       "      <td>61.00</td>\n",
       "      <td>56.00</td>\n",
       "      <td>1043.00</td>\n",
       "      <td>4.71</td>\n",
       "      <td>4.72</td>\n",
       "      <td>2.91</td>\n",
       "      <td>2012.75</td>\n",
       "    </tr>\n",
       "    <tr>\n",
       "      <th>50%</th>\n",
       "      <td>16969.50</td>\n",
       "      <td>0.70</td>\n",
       "      <td>61.80</td>\n",
       "      <td>57.00</td>\n",
       "      <td>2655.00</td>\n",
       "      <td>5.69</td>\n",
       "      <td>5.71</td>\n",
       "      <td>3.52</td>\n",
       "      <td>2015.50</td>\n",
       "    </tr>\n",
       "    <tr>\n",
       "      <th>75%</th>\n",
       "      <td>25454.25</td>\n",
       "      <td>1.04</td>\n",
       "      <td>62.50</td>\n",
       "      <td>59.00</td>\n",
       "      <td>5960.00</td>\n",
       "      <td>6.53</td>\n",
       "      <td>6.53</td>\n",
       "      <td>4.03</td>\n",
       "      <td>2018.25</td>\n",
       "    </tr>\n",
       "    <tr>\n",
       "      <th>max</th>\n",
       "      <td>33939.00</td>\n",
       "      <td>4.13</td>\n",
       "      <td>79.00</td>\n",
       "      <td>95.00</td>\n",
       "      <td>26930.00</td>\n",
       "      <td>10.14</td>\n",
       "      <td>10.10</td>\n",
       "      <td>31.80</td>\n",
       "      <td>2021.00</td>\n",
       "    </tr>\n",
       "  </tbody>\n",
       "</table>\n",
       "</div>"
      ],
      "text/plain": [
       "           index      carat      depth      table  cost (dollars)  \\\n",
       "count  407280.00  405232.00  407280.00  407280.00       407280.00   \n",
       "mean    16969.50       0.80      61.75      57.46         4372.97   \n",
       "std      9797.65       0.47       1.43       2.24         4503.62   \n",
       "min         0.00       0.20      43.00      43.00         -998.00   \n",
       "25%      8484.75       0.40      61.00      56.00         1043.00   \n",
       "50%     16969.50       0.70      61.80      57.00         2655.00   \n",
       "75%     25454.25       1.04      62.50      59.00         5960.00   \n",
       "max     33939.00       4.13      79.00      95.00        26930.00   \n",
       "\n",
       "       length (mm)  width (mm)  height (mm)       year  \n",
       "count    407280.00   407280.00    407280.00  407280.00  \n",
       "mean          5.73        5.73         3.54    2015.50  \n",
       "std           1.12        1.11         0.71       3.45  \n",
       "min           0.00        0.00         0.00    2010.00  \n",
       "25%           4.71        4.72         2.91    2012.75  \n",
       "50%           5.69        5.71         3.52    2015.50  \n",
       "75%           6.53        6.53         4.03    2018.25  \n",
       "max          10.14       10.10        31.80    2021.00  "
      ]
     },
     "execution_count": 4,
     "metadata": {},
     "output_type": "execute_result"
    }
   ],
   "source": [
    "# Printing table of summary statistics\n",
    "# Rounding to 2 decimals to limit decimal numbers\n",
    "df.describe().round(2) "
   ]
  },
  {
   "cell_type": "markdown",
   "metadata": {},
   "source": [
    " "
   ]
  },
  {
   "cell_type": "markdown",
   "metadata": {},
   "source": [
    "When deciding how to trim the data, one place to start is to check if there are any duplicate rows. Duplicates data can easily be deleted (using the drop_duplicates function) if necessary. In this case, the data does not appear to have any duplicate rows, as shown below."
   ]
  },
  {
   "cell_type": "code",
   "execution_count": 5,
   "metadata": {},
   "outputs": [
    {
     "data": {
      "text/plain": [
       "index             0\n",
       "carat             0\n",
       "cut               0\n",
       "color             0\n",
       "clarity           0\n",
       "depth             0\n",
       "table             0\n",
       "cost (dollars)    0\n",
       "length (mm)       0\n",
       "width (mm)        0\n",
       "height (mm)       0\n",
       "year              0\n",
       "dtype: int64"
      ]
     },
     "execution_count": 5,
     "metadata": {},
     "output_type": "execute_result"
    }
   ],
   "source": [
    "# Looking for duplicate rows\n",
    "df[df.duplicated()==True].count() # There are no duplicate rows"
   ]
  },
  {
   "cell_type": "markdown",
   "metadata": {},
   "source": [
    " "
   ]
  },
  {
   "cell_type": "markdown",
   "metadata": {},
   "source": [
    "The table of summary statistics provides a count of all the continuous variables, but it is important to be aware of all variables with null values. The df.isnull().sum() function reveals that the only variable with missing values is the 'carat' variable. Note that 'carat' is missing 2,048 values; this is consistent with the count of 405,232 reported in the table of summary statistics above (given that there are 407,280 rows of data)."
   ]
  },
  {
   "cell_type": "code",
   "execution_count": 6,
   "metadata": {},
   "outputs": [
    {
     "name": "stdout",
     "output_type": "stream",
     "text": [
      "index                0\n",
      "carat             2048\n",
      "cut                  0\n",
      "color                0\n",
      "clarity              0\n",
      "depth                0\n",
      "table                0\n",
      "cost (dollars)       0\n",
      "length (mm)          0\n",
      "width (mm)           0\n",
      "height (mm)          0\n",
      "year                 0\n",
      "dtype: int64\n"
     ]
    }
   ],
   "source": [
    "# Finding the null values by variable\n",
    "print(df.isnull().sum())"
   ]
  },
  {
   "cell_type": "markdown",
   "metadata": {},
   "source": [
    " "
   ]
  },
  {
   "cell_type": "markdown",
   "metadata": {},
   "source": [
    "To begin the exploratory data analysis, understanding the variables' data types is necessary. This helps determine which visualizations and forms of analyses are appropriate for each variable."
   ]
  },
  {
   "cell_type": "code",
   "execution_count": 7,
   "metadata": {},
   "outputs": [
    {
     "name": "stdout",
     "output_type": "stream",
     "text": [
      "<class 'pandas.core.frame.DataFrame'>\n",
      "RangeIndex: 407280 entries, 0 to 407279\n",
      "Data columns (total 12 columns):\n",
      " #   Column          Non-Null Count   Dtype  \n",
      "---  ------          --------------   -----  \n",
      " 0   index           407280 non-null  int64  \n",
      " 1   carat           405232 non-null  float64\n",
      " 2   cut             407280 non-null  object \n",
      " 3   color           407280 non-null  object \n",
      " 4   clarity         407280 non-null  object \n",
      " 5   depth           407280 non-null  float64\n",
      " 6   table           407280 non-null  float64\n",
      " 7   cost (dollars)  407280 non-null  int64  \n",
      " 8   length (mm)     407280 non-null  float64\n",
      " 9   width (mm)      407280 non-null  float64\n",
      " 10  height (mm)     407280 non-null  float64\n",
      " 11  year            407280 non-null  int64  \n",
      "dtypes: float64(6), int64(3), object(3)\n",
      "memory usage: 37.3+ MB\n"
     ]
    }
   ],
   "source": [
    "# Examining the datatypes and non-null values for each variable\n",
    "df.info()"
   ]
  },
  {
   "cell_type": "markdown",
   "metadata": {},
   "source": [
    "##### Data Distribution"
   ]
  },
  {
   "cell_type": "markdown",
   "metadata": {},
   "source": [
    "In order to gain a broad glimpse into the categorical variables, we look at the count of the 'cut', 'color', and 'clarity' variables. Doing so helps us understand the distribution of each variable."
   ]
  },
  {
   "cell_type": "code",
   "execution_count": 8,
   "metadata": {
    "scrolled": false
   },
   "outputs": [
    {
     "name": "stdout",
     "output_type": "stream",
     "text": [
      "COUNT OF DIAMONS BY CUT \n",
      "\n",
      "Ideal        162876\n",
      "Premium      103680\n",
      "Very Good     91740\n",
      "Good          37056\n",
      "Fair          11928\n",
      "Name: cut, dtype: int64 \n",
      "\n",
      "--------------------------------------------------\n",
      "COUNT OF DIAMONS BY COLOR \n",
      "\n",
      "G    86064\n",
      "E    73368\n",
      "F    70848\n",
      "H    63708\n",
      "D    51324\n",
      "I    40692\n",
      "J    21276\n",
      "Name: color, dtype: int64 \n",
      "\n",
      "--------------------------------------------------\n",
      "COUNT OF DIAMONS BY CLARITY \n",
      "\n",
      "SI1     98844\n",
      "VS2     91980\n",
      "SI2     70080\n",
      "VS1     61260\n",
      "VVS2    38040\n",
      "VVS1    28320\n",
      "IF      13224\n",
      "I1       5532\n",
      "Name: clarity, dtype: int64 \n",
      "\n",
      "--------------------------------------------------\n"
     ]
    }
   ],
   "source": [
    "def count_function(variable):\n",
    "    print('COUNT OF DIAMONS BY', variable.upper(), '\\n')\n",
    "    print(df[variable].value_counts(), '\\n')\n",
    "    return '-'*50\n",
    "\n",
    "print(count_function('cut'))\n",
    "print(count_function('color'))\n",
    "print(count_function('clarity'))"
   ]
  },
  {
   "cell_type": "code",
   "execution_count": 9,
   "metadata": {},
   "outputs": [
    {
     "data": {
      "image/png": "[encoded data removed]",
      "text/plain": [
       "<Figure size 1080x1080 with 16 Axes>"
      ]
     },
     "metadata": {},
     "output_type": "display_data"
    }
   ],
   "source": [
    "# Dropping the index column because it is not necessary to see its destribution\n",
    "no_index_df = df.drop(columns=['index'])\n",
    "\n",
    "# Plotting histograms of columns to get a general sense of the data\n",
    "no_index_df.hist(edgecolor='black', linewidth=1.2, figsize=(15, 15), layout=(4,4))\n",
    "plt.show()"
   ]
  },
  {
   "cell_type": "markdown",
   "metadata": {},
   "source": [
    " "
   ]
  },
  {
   "cell_type": "markdown",
   "metadata": {},
   "source": [
    "##### Boxplots"
   ]
  },
  {
   "cell_type": "markdown",
   "metadata": {},
   "source": [
    "The two boxplots below help visualize the outliers the numerical variables (with the exception of 'year') have. As the graphs show, all of these variables have outliers. When data modeling, outliers should be dealt with (either by trimming the data or replacing outliers with variable means or medians) to avoid overfitting the data in order to build an accurate model."
   ]
  },
  {
   "cell_type": "code",
   "execution_count": 10,
   "metadata": {},
   "outputs": [
    {
     "data": {
      "image/png": "[encoded data removed]",
      "text/plain": [
       "<Figure size 720x504 with 1 Axes>"
      ]
     },
     "metadata": {},
     "output_type": "display_data"
    }
   ],
   "source": [
    "# Creating boxplots for all variables with dataypes of float64\n",
    "df.loc[:,df.dtypes==np.float64].boxplot(grid=True, rot=45, fontsize=13, figsize=(10, 7))\n",
    "\n",
    "# Adding title and axis names\n",
    "plt.title('Boxplots for Numerical Variables', fontsize=20, fontweight='bold')\n",
    "plt.xlabel('Variables', fontsize=15, fontweight='bold')\n",
    "plt.ylabel('Values', fontsize=15, fontweight='bold')\n",
    "\n",
    "# Displaying boxplot\n",
    "plt.show()"
   ]
  },
  {
   "cell_type": "markdown",
   "metadata": {},
   "source": [
    " "
   ]
  },
  {
   "cell_type": "markdown",
   "metadata": {},
   "source": [
    "The boxplot for 'cost (dollars)' shows that the negative cost values are not considered considered outliers. Therefore, we can concluded that there are numerous negative cost values that must be cleaned. A count of the negative values (shown below the boxplot) reveals that 'cost (dollars)' has 2,037 negative values. Cleaning these negative costs must come before cleaning the 'cost (dollars)' outliers because some outliers may no longer be considered outliers once the negative values are removed or replaced. Note that the boxplot for 'cost (dollars)' must be on a separate graph from the rest of the numerical variables because 'cost (dollars)' has considerable larger values than the rest of the variables, and thus it would not be practical for them to be graphed together."
   ]
  },
  {
   "cell_type": "code",
   "execution_count": 11,
   "metadata": {},
   "outputs": [
    {
     "data": {
      "image/png": "[encoded data removed]",
      "text/plain": [
       "<Figure size 504x360 with 1 Axes>"
      ]
     },
     "metadata": {},
     "output_type": "display_data"
    }
   ],
   "source": [
    "# Creating boxplot for 'cost (dollars)' variable\n",
    "# This boxplot was not included in the previous graph because its values are a lot larger\n",
    "plt.figure(figsize=(7,5))\n",
    "sns.boxplot(x=df[\"cost (dollars)\"])\n",
    "\n",
    "# Adding title and axis names\n",
    "plt.title('Boxplot for Cost', fontsize=17, fontweight='bold')\n",
    "plt.xlabel('Values', fontsize=15, fontweight='bold')\n",
    "\n",
    "# Displaying boxplot\n",
    "plt.show()"
   ]
  },
  {
   "cell_type": "code",
   "execution_count": 12,
   "metadata": {},
   "outputs": [
    {
     "name": "stdout",
     "output_type": "stream",
     "text": [
      "Count of negative cost values: 2037\n"
     ]
    }
   ],
   "source": [
    "# Getting a count of how many values in 'cost (dollars)' are negative\n",
    "negative_cost = df['cost (dollars)'][df['cost (dollars)'] < 0].count()\n",
    "print('Count of negative cost values:', negative_cost)"
   ]
  },
  {
   "cell_type": "markdown",
   "metadata": {},
   "source": [
    "  "
   ]
  },
  {
   "cell_type": "markdown",
   "metadata": {},
   "source": [
    "##### Correlation"
   ]
  },
  {
   "cell_type": "markdown",
   "metadata": {},
   "source": [
    "While all variables contribute to the cost of the diamonds, the heatmap below helps to show how some variables have a stronger influence than others. For instance, a diamond's dimensions (length, width, and height) have the strongest correlation with its cost. In addition, the carat and cost of the diamond are also strongly correlated. Though the depth, table, and year also influence diamonds' cost, the correlation between these three variables and cost is not as strong as the correlations between cost and dimensions or carats."
   ]
  },
  {
   "cell_type": "code",
   "execution_count": 13,
   "metadata": {},
   "outputs": [
    {
     "data": {
      "image/png": "[encoded data removed]",
      "text/plain": [
       "<Figure size 720x504 with 2 Axes>"
      ]
     },
     "metadata": {},
     "output_type": "display_data"
    }
   ],
   "source": [
    "# Correlation matrix for model\n",
    "# Using no_index_df because we do not need index for correlation\n",
    "corr_matrix = no_index_df.corr().round(2)\n",
    "plt.figure(figsize=(10,7))\n",
    "sns.heatmap(corr_matrix, annot = False) \n",
    "\n",
    "# Adding title and displaying heatmap\n",
    "plt.title('Diamonds Correlation Matrix', fontsize=17, fontweight='bold')\n",
    "plt.show()"
   ]
  },
  {
   "cell_type": "markdown",
   "metadata": {},
   "source": [
    "------------\n",
    "## Data Cleaning"
   ]
  },
  {
   "cell_type": "markdown",
   "metadata": {},
   "source": [
    " "
   ]
  },
  {
   "cell_type": "markdown",
   "metadata": {},
   "source": [
    "##### Removing Column"
   ]
  },
  {
   "cell_type": "markdown",
   "metadata": {},
   "source": [
    "The 'index' column is not necessary for the data modeling and is therefore is removed. In addition, the index as is would not be useful because it will not be updated as rows of corrupted data are dropped (making it inaccurate)."
   ]
  },
  {
   "cell_type": "code",
   "execution_count": 14,
   "metadata": {},
   "outputs": [],
   "source": [
    "# Making a deep copy of our dataframe\n",
    "# This is the dataframe that will be cleaned\n",
    "clean_df = df.copy()"
   ]
  },
  {
   "cell_type": "code",
   "execution_count": 15,
   "metadata": {},
   "outputs": [],
   "source": [
    "# Dropping index column\n",
    "clean_df.drop(['index'], inplace = True, axis = 1)"
   ]
  },
  {
   "cell_type": "markdown",
   "metadata": {},
   "source": [
    " "
   ]
  },
  {
   "cell_type": "markdown",
   "metadata": {},
   "source": [
    "##### Removing Corrupt Rows of Data"
   ]
  },
  {
   "cell_type": "markdown",
   "metadata": {},
   "source": [
    "There are 2,048 null values in the carat column that must be removed as they are considered corrupt. This will allow for better analysis of our dataset."
   ]
  },
  {
   "cell_type": "code",
   "execution_count": 16,
   "metadata": {},
   "outputs": [
    {
     "name": "stdout",
     "output_type": "stream",
     "text": [
      "Count of null carat values *before* cleaning: 2048\n",
      "Count of null carat values *after* cleaning: 0\n"
     ]
    }
   ],
   "source": [
    "# Checking for null values in the original dataset\n",
    "print(\"Count of null carat values *before* cleaning:\", df['carat'].isnull().sum())\n",
    "\n",
    "# Dropping nulls values\n",
    "clean_df.dropna(inplace=True)\n",
    "clean_df.isnull().sum()\n",
    "\n",
    "# Checking for null values in the original dataset\n",
    "print(\"Count of null carat values *after* cleaning:\", clean_df['carat'].isnull().sum())"
   ]
  },
  {
   "cell_type": "markdown",
   "metadata": {},
   "source": [
    " "
   ]
  },
  {
   "cell_type": "markdown",
   "metadata": {},
   "source": [
    "There are negative cost values and dimensions with values of zero in the datasets. These data are also considered to be corrupt as it is impossible to have a negative cost and for the length, width, or height of an object to be zero."
   ]
  },
  {
   "cell_type": "code",
   "execution_count": 17,
   "metadata": {},
   "outputs": [
    {
     "name": "stdout",
     "output_type": "stream",
     "text": [
      "Count of length with value of 0 *before* cleaning: 48\n",
      "Count of width with value of 0 *before* cleaning: 36\n",
      "Count of height with value of 0 *before* cleaning: 132\n",
      "Count of negative cost values *before* cleaning: 2037\n",
      "\n",
      " -------------------------------------------------- \n",
      "\n",
      "Count of length with value of 0 *after* cleaning: 0\n",
      "Count of width with value of 0 *after* cleaning: 0\n",
      "Count of height with value of 0 *after* cleaning: 0\n",
      "Count of negative cost values *after* cleaning: 0\n"
     ]
    }
   ],
   "source": [
    "# Count of dimensions with values of 0\n",
    "print(\"Count of length with value of 0 *before* cleaning:\", df['length (mm)'] [df['length (mm)'] <= 0].count())\n",
    "print(\"Count of width with value of 0 *before* cleaning:\", df['width (mm)'] [df['width (mm)'] <= 0].count())\n",
    "print(\"Count of height with value of 0 *before* cleaning:\", df['height (mm)'] [df['height (mm)'] <= 0].count())\n",
    "\n",
    "# Count of 'cost (dollars)' with negative values\n",
    "print(\"Count of negative cost values *before* cleaning:\", df['cost (dollars)'] [df['cost (dollars)'] < 0].count())\n",
    "print('\\n', '-' * 50, '\\n')\n",
    "\n",
    "\n",
    "# Dropping negatives cost values and zero dimension values\n",
    "dropped = clean_df[(clean_df['length (mm)'] <= 0) | (clean_df['height (mm)'] <= 0) | \n",
    "                   (clean_df['width (mm)'] <=0) | (clean_df['cost (dollars)'] < 0)].index\n",
    "clean_df.drop(dropped, inplace= True)\n",
    "\n",
    "\n",
    "# Count of dimensions with values of 0\n",
    "print(\"Count of length with value of 0 *after* cleaning:\", clean_df['length (mm)'] [clean_df['length (mm)'] <= 0].count())\n",
    "print(\"Count of width with value of 0 *after* cleaning:\", clean_df['width (mm)'] [clean_df['width (mm)'] <= 0].count())\n",
    "print(\"Count of height with value of 0 *after* cleaning:\", clean_df['height (mm)'] [clean_df['height (mm)'] <= 0].count())\n",
    "\n",
    "\n",
    "# Count of 'cost (dollars)' with negative values\n",
    "print(\"Count of negative cost values *after* cleaning:\", clean_df['cost (dollars)'] [clean_df['cost (dollars)'] < 0].count())\n"
   ]
  },
  {
   "cell_type": "markdown",
   "metadata": {},
   "source": [
    " "
   ]
  },
  {
   "cell_type": "markdown",
   "metadata": {},
   "source": [
    "##### Removing Outliers"
   ]
  },
  {
   "cell_type": "markdown",
   "metadata": {},
   "source": [
    "Outliers, or values in the data that fall outside the overall pattern of normal distribution, often indicate the presence of corrupted data. In the case of machine learning, outliers must be dealt with because they can affect the accuracy of our models. One method used for detecting outliers is skewness; it is used to determine how data are distributed. Skewness value should fall between -1 and 1, and any major deviation from this range indicates the presence of extreme values. Below, we use the df.skew() function to find the skewness for all of our numerical variables. In doing so we are able to determine that the variables 'carat', 'cost (dollars)' and 'height (mm)' all have values that lie outside of the normal distribution. In other words, these three variables have the most concerning outliers."
   ]
  },
  {
   "cell_type": "code",
   "execution_count": 18,
   "metadata": {},
   "outputs": [
    {
     "name": "stdout",
     "output_type": "stream",
     "text": [
      "--------------------------------------------------\n",
      "Skewness *before* cleaning the data\n",
      "Ideal skewness is between -1 and 1\n",
      "-------------------------------------------------- \n",
      "\n",
      "carat             1.113906\n",
      "depth            -0.067586\n",
      "table             0.861265\n",
      "cost (dollars)    1.653415\n",
      "length (mm)       0.400164\n",
      "width (mm)        0.394971\n",
      "height (mm)       2.243572\n",
      "year             -0.000135\n",
      "dtype: float64\n"
     ]
    }
   ],
   "source": [
    "# Identifying outliners with skewness\n",
    "# Ideal skewness is between -1 and 1\n",
    "print('-' * 50)\n",
    "print('Skewness *before* cleaning the data')\n",
    "print('Ideal skewness is between -1 and 1') \n",
    "print('-' * 50, '\\n')\n",
    "print(clean_df.skew(numeric_only=True))"
   ]
  },
  {
   "cell_type": "markdown",
   "metadata": {},
   "source": [
    " "
   ]
  },
  {
   "cell_type": "markdown",
   "metadata": {},
   "source": [
    "Once identifying which variables have a skew outside of the desired range, we chose quantile-based flooring and capping as our method for cleaning the data. With this method, outliers are capped at the value of the variables' 90th percentile and floored at the value of the variables' 10th percentile. In other words, all values above the 90th percentile are replaced the variables' 90th percentile. The same is done for variables below the 10th percentile."
   ]
  },
  {
   "cell_type": "code",
   "execution_count": 19,
   "metadata": {},
   "outputs": [
    {
     "name": "stdout",
     "output_type": "stream",
     "text": [
      "Carat 10th percentile: 0.31\n",
      "Carat 90th percentile: 1.51 \n",
      "\n",
      "Cost 10th percentile: 710.0\n",
      "Cost 90th percentile: 11002.0 \n",
      "\n",
      "Height 10th percentile: 2.69\n",
      "Height 90th percentile: 4.52\n"
     ]
    }
   ],
   "source": [
    "# Using quantile-based Flooring and Capping to remove outliers\n",
    "# In this method, we set a threshold consisting of the lower (10th percentile) \n",
    "# and higher (90th percentile) to replace outliers\n",
    "\n",
    "# Carat\n",
    "# Finding the 10th and 90th percentile values\n",
    "print('Carat 10th percentile:', clean_df['carat'].quantile(0.10))\n",
    "print('Carat 90th percentile:', clean_df['carat'].quantile(0.90), '\\n')\n",
    "\n",
    "# Carat\n",
    "# Replacing outliers with the 10th and 90th percentile values\n",
    "clean_df['carat'] = np.where (clean_df['carat'] < 0.31, 0.31, clean_df['carat'] )\n",
    "clean_df['carat'] = np.where (clean_df['carat'] > 1.51, 1.51, clean_df['carat'] )\n",
    "\n",
    "\n",
    "\n",
    "# Cost (dollars)\n",
    "# Finding the 10th and 90th percentile values\n",
    "print('Cost 10th percentile:', clean_df['cost (dollars)'].quantile(0.10)) # Finding the 10th percentile values\n",
    "print('Cost 90th percentile:', clean_df['cost (dollars)'].quantile(0.90), '\\n') # Finding the 90th percentile values\n",
    "\n",
    "# Cost (dollars)\n",
    "# Replacing outliers with the 10th and 90th percentile values\n",
    "clean_df['cost (dollars)'] = np.where (clean_df['cost (dollars)'] < 710.0, 710.0, clean_df['cost (dollars)'] )\n",
    "clean_df['cost (dollars)'] = np.where (clean_df['cost (dollars)'] > 11002.0, 11002.0, clean_df['cost (dollars)'] )\n",
    "\n",
    "\n",
    "\n",
    "# Height\n",
    "# Finding the 10th and 90th percentile values\n",
    "print('Height 10th percentile:', clean_df['height (mm)'].quantile(0.10)) # Finding the 10th percentile values\n",
    "print('Height 90th percentile:', clean_df['height (mm)'].quantile(0.90)) # Finding the 90th percentile values\n",
    "\n",
    "# Height\n",
    "# Replacing outliers with the 10th and 90th percentile values\n",
    "clean_df['height (mm)'] = np.where (clean_df['height (mm)'] < 2.69, 2.69, clean_df['height (mm)'] )\n",
    "clean_df['height (mm)'] = np.where (clean_df['height (mm)'] > 4.52, 4.52, clean_df['height (mm)'] )\n"
   ]
  },
  {
   "cell_type": "markdown",
   "metadata": {},
   "source": [
    " "
   ]
  },
  {
   "cell_type": "markdown",
   "metadata": {},
   "source": [
    "Once using the quantile-based flooring and capping, all of the variables now have a skew between -1 and 1."
   ]
  },
  {
   "cell_type": "code",
   "execution_count": 20,
   "metadata": {
    "scrolled": true
   },
   "outputs": [
    {
     "name": "stdout",
     "output_type": "stream",
     "text": [
      "--------------------------------------------------\n",
      "Skewness *after* cleaning the data\n",
      "Ideal skewness is between -1 and 1\n",
      "-------------------------------------------------- \n",
      "\n",
      "carat             0.510777\n",
      "depth            -0.067586\n",
      "table             0.861265\n",
      "cost (dollars)    0.916327\n",
      "length (mm)       0.400164\n",
      "width (mm)        0.394971\n",
      "height (mm)       0.142981\n",
      "year             -0.000135\n",
      "dtype: float64\n"
     ]
    }
   ],
   "source": [
    "# Identifying outliners with skewness\n",
    "# Ideal skewness is between -1 and 1\n",
    "print('-' * 50)\n",
    "print('Skewness *after* cleaning the data')\n",
    "print('Ideal skewness is between -1 and 1') \n",
    "print('-' * 50, '\\n')\n",
    "print(clean_df.skew(numeric_only=True))"
   ]
  },
  {
   "cell_type": "markdown",
   "metadata": {},
   "source": [
    " "
   ]
  },
  {
   "cell_type": "markdown",
   "metadata": {},
   "source": [
    "##### Overview of Cleaned Data"
   ]
  },
  {
   "cell_type": "markdown",
   "metadata": {},
   "source": [
    "After cleaning the dataset, we have dropped one column and removed a total of 4,216 rows of data. The dataset now contains 403,064 rows and 11 columns. Below, the describe function shows how cleaning the datset has impacted the table of summary statistics. We now have no null values (all of the count values are the same), no negative cost values, and no dimensions with minimum values of zero. Note how the statistics for the 'carat', 'cost (dollars)', and 'height (mm)' were most affected. This change is to be expected as these were the three variables with concerning skewness whose outliers were replaced with 10th or 90th percentile values."
   ]
  },
  {
   "cell_type": "code",
   "execution_count": 21,
   "metadata": {},
   "outputs": [
    {
     "name": "stdout",
     "output_type": "stream",
     "text": [
      "Shape of the cleaned dataset:  (403064, 11)\n"
     ]
    },
    {
     "data": {
      "text/html": [
       "<div>\n",
       "<style scoped>\n",
       "    .dataframe tbody tr th:only-of-type {\n",
       "        vertical-align: middle;\n",
       "    }\n",
       "\n",
       "    .dataframe tbody tr th {\n",
       "        vertical-align: top;\n",
       "    }\n",
       "\n",
       "    .dataframe thead th {\n",
       "        text-align: right;\n",
       "    }\n",
       "</style>\n",
       "<table border=\"1\" class=\"dataframe\">\n",
       "  <thead>\n",
       "    <tr style=\"text-align: right;\">\n",
       "      <th></th>\n",
       "      <th>carat</th>\n",
       "      <th>cut</th>\n",
       "      <th>color</th>\n",
       "      <th>clarity</th>\n",
       "      <th>depth</th>\n",
       "      <th>table</th>\n",
       "      <th>cost (dollars)</th>\n",
       "      <th>length (mm)</th>\n",
       "      <th>width (mm)</th>\n",
       "      <th>height (mm)</th>\n",
       "      <th>year</th>\n",
       "    </tr>\n",
       "  </thead>\n",
       "  <tbody>\n",
       "    <tr>\n",
       "      <th>0</th>\n",
       "      <td>0.31</td>\n",
       "      <td>Ideal</td>\n",
       "      <td>E</td>\n",
       "      <td>SI2</td>\n",
       "      <td>61.5</td>\n",
       "      <td>55.0</td>\n",
       "      <td>710.0</td>\n",
       "      <td>3.95</td>\n",
       "      <td>3.98</td>\n",
       "      <td>2.69</td>\n",
       "      <td>2010</td>\n",
       "    </tr>\n",
       "    <tr>\n",
       "      <th>1</th>\n",
       "      <td>0.31</td>\n",
       "      <td>Good</td>\n",
       "      <td>E</td>\n",
       "      <td>VS1</td>\n",
       "      <td>56.9</td>\n",
       "      <td>65.0</td>\n",
       "      <td>710.0</td>\n",
       "      <td>4.05</td>\n",
       "      <td>4.07</td>\n",
       "      <td>2.69</td>\n",
       "      <td>2010</td>\n",
       "    </tr>\n",
       "    <tr>\n",
       "      <th>2</th>\n",
       "      <td>0.31</td>\n",
       "      <td>Premium</td>\n",
       "      <td>I</td>\n",
       "      <td>VS2</td>\n",
       "      <td>62.4</td>\n",
       "      <td>58.0</td>\n",
       "      <td>710.0</td>\n",
       "      <td>4.20</td>\n",
       "      <td>4.23</td>\n",
       "      <td>2.69</td>\n",
       "      <td>2010</td>\n",
       "    </tr>\n",
       "    <tr>\n",
       "      <th>3</th>\n",
       "      <td>0.31</td>\n",
       "      <td>Good</td>\n",
       "      <td>J</td>\n",
       "      <td>SI2</td>\n",
       "      <td>63.3</td>\n",
       "      <td>58.0</td>\n",
       "      <td>710.0</td>\n",
       "      <td>4.34</td>\n",
       "      <td>4.35</td>\n",
       "      <td>2.75</td>\n",
       "      <td>2010</td>\n",
       "    </tr>\n",
       "    <tr>\n",
       "      <th>4</th>\n",
       "      <td>0.31</td>\n",
       "      <td>Very Good</td>\n",
       "      <td>J</td>\n",
       "      <td>VVS2</td>\n",
       "      <td>62.8</td>\n",
       "      <td>57.0</td>\n",
       "      <td>710.0</td>\n",
       "      <td>3.94</td>\n",
       "      <td>3.96</td>\n",
       "      <td>2.69</td>\n",
       "      <td>2010</td>\n",
       "    </tr>\n",
       "  </tbody>\n",
       "</table>\n",
       "</div>"
      ],
      "text/plain": [
       "   carat        cut color clarity  depth  table  cost (dollars)  length (mm)  \\\n",
       "0   0.31      Ideal     E     SI2   61.5   55.0           710.0         3.95   \n",
       "1   0.31       Good     E     VS1   56.9   65.0           710.0         4.05   \n",
       "2   0.31    Premium     I     VS2   62.4   58.0           710.0         4.20   \n",
       "3   0.31       Good     J     SI2   63.3   58.0           710.0         4.34   \n",
       "4   0.31  Very Good     J    VVS2   62.8   57.0           710.0         3.94   \n",
       "\n",
       "   width (mm)  height (mm)  year  \n",
       "0        3.98         2.69  2010  \n",
       "1        4.07         2.69  2010  \n",
       "2        4.23         2.69  2010  \n",
       "3        4.35         2.75  2010  \n",
       "4        3.96         2.69  2010  "
      ]
     },
     "execution_count": 21,
     "metadata": {},
     "output_type": "execute_result"
    }
   ],
   "source": [
    "# Inspeacting the first 5 entries of the cleaned dataset\n",
    "print('Shape of the cleaned dataset: ', clean_df.shape) # Printing total number of rows and columns\n",
    "clean_df.head()"
   ]
  },
  {
   "cell_type": "code",
   "execution_count": 22,
   "metadata": {},
   "outputs": [
    {
     "data": {
      "text/html": [
       "<div>\n",
       "<style scoped>\n",
       "    .dataframe tbody tr th:only-of-type {\n",
       "        vertical-align: middle;\n",
       "    }\n",
       "\n",
       "    .dataframe tbody tr th {\n",
       "        vertical-align: top;\n",
       "    }\n",
       "\n",
       "    .dataframe thead th {\n",
       "        text-align: right;\n",
       "    }\n",
       "</style>\n",
       "<table border=\"1\" class=\"dataframe\">\n",
       "  <thead>\n",
       "    <tr style=\"text-align: right;\">\n",
       "      <th></th>\n",
       "      <th>carat</th>\n",
       "      <th>depth</th>\n",
       "      <th>table</th>\n",
       "      <th>cost (dollars)</th>\n",
       "      <th>length (mm)</th>\n",
       "      <th>width (mm)</th>\n",
       "      <th>height (mm)</th>\n",
       "      <th>year</th>\n",
       "    </tr>\n",
       "  </thead>\n",
       "  <tbody>\n",
       "    <tr>\n",
       "      <th>count</th>\n",
       "      <td>403064.00</td>\n",
       "      <td>403064.00</td>\n",
       "      <td>403064.00</td>\n",
       "      <td>403064.00</td>\n",
       "      <td>403064.00</td>\n",
       "      <td>403064.00</td>\n",
       "      <td>403064.00</td>\n",
       "      <td>403064.00</td>\n",
       "    </tr>\n",
       "    <tr>\n",
       "      <th>mean</th>\n",
       "      <td>0.77</td>\n",
       "      <td>61.75</td>\n",
       "      <td>57.46</td>\n",
       "      <td>3988.73</td>\n",
       "      <td>5.73</td>\n",
       "      <td>5.73</td>\n",
       "      <td>3.52</td>\n",
       "      <td>2015.50</td>\n",
       "    </tr>\n",
       "    <tr>\n",
       "      <th>std</th>\n",
       "      <td>0.40</td>\n",
       "      <td>1.43</td>\n",
       "      <td>2.24</td>\n",
       "      <td>3429.39</td>\n",
       "      <td>1.12</td>\n",
       "      <td>1.11</td>\n",
       "      <td>0.63</td>\n",
       "      <td>3.45</td>\n",
       "    </tr>\n",
       "    <tr>\n",
       "      <th>min</th>\n",
       "      <td>0.31</td>\n",
       "      <td>43.00</td>\n",
       "      <td>43.00</td>\n",
       "      <td>710.00</td>\n",
       "      <td>3.73</td>\n",
       "      <td>3.68</td>\n",
       "      <td>2.69</td>\n",
       "      <td>2010.00</td>\n",
       "    </tr>\n",
       "    <tr>\n",
       "      <th>25%</th>\n",
       "      <td>0.40</td>\n",
       "      <td>61.00</td>\n",
       "      <td>56.00</td>\n",
       "      <td>1053.00</td>\n",
       "      <td>4.71</td>\n",
       "      <td>4.72</td>\n",
       "      <td>2.91</td>\n",
       "      <td>2013.00</td>\n",
       "    </tr>\n",
       "    <tr>\n",
       "      <th>50%</th>\n",
       "      <td>0.70</td>\n",
       "      <td>61.80</td>\n",
       "      <td>57.00</td>\n",
       "      <td>2676.00</td>\n",
       "      <td>5.69</td>\n",
       "      <td>5.71</td>\n",
       "      <td>3.52</td>\n",
       "      <td>2016.00</td>\n",
       "    </tr>\n",
       "    <tr>\n",
       "      <th>75%</th>\n",
       "      <td>1.04</td>\n",
       "      <td>62.50</td>\n",
       "      <td>59.00</td>\n",
       "      <td>5982.00</td>\n",
       "      <td>6.53</td>\n",
       "      <td>6.53</td>\n",
       "      <td>4.03</td>\n",
       "      <td>2019.00</td>\n",
       "    </tr>\n",
       "    <tr>\n",
       "      <th>max</th>\n",
       "      <td>1.51</td>\n",
       "      <td>79.00</td>\n",
       "      <td>95.00</td>\n",
       "      <td>11002.00</td>\n",
       "      <td>10.14</td>\n",
       "      <td>10.10</td>\n",
       "      <td>4.52</td>\n",
       "      <td>2021.00</td>\n",
       "    </tr>\n",
       "  </tbody>\n",
       "</table>\n",
       "</div>"
      ],
      "text/plain": [
       "           carat      depth      table  cost (dollars)  length (mm)  \\\n",
       "count  403064.00  403064.00  403064.00       403064.00    403064.00   \n",
       "mean        0.77      61.75      57.46         3988.73         5.73   \n",
       "std         0.40       1.43       2.24         3429.39         1.12   \n",
       "min         0.31      43.00      43.00          710.00         3.73   \n",
       "25%         0.40      61.00      56.00         1053.00         4.71   \n",
       "50%         0.70      61.80      57.00         2676.00         5.69   \n",
       "75%         1.04      62.50      59.00         5982.00         6.53   \n",
       "max         1.51      79.00      95.00        11002.00        10.14   \n",
       "\n",
       "       width (mm)  height (mm)       year  \n",
       "count   403064.00    403064.00  403064.00  \n",
       "mean         5.73         3.52    2015.50  \n",
       "std          1.11         0.63       3.45  \n",
       "min          3.68         2.69    2010.00  \n",
       "25%          4.72         2.91    2013.00  \n",
       "50%          5.71         3.52    2016.00  \n",
       "75%          6.53         4.03    2019.00  \n",
       "max         10.10         4.52    2021.00  "
      ]
     },
     "execution_count": 22,
     "metadata": {},
     "output_type": "execute_result"
    }
   ],
   "source": [
    "# Printing table of summary statistics for cleaned dataset\n",
    "# Rounding to 2 decimal to limit decimals\n",
    "clean_df.describe().round(2) "
   ]
  },
  {
   "cell_type": "markdown",
   "metadata": {},
   "source": [
    "Below is a dashboard built with our newly cleaned data. This dashboard helps to provide an overview of what our final data looks like. Though the dashboard is meant to be interactive, due to Power BI public access issues, we can only provide an image at this time. Please see the GitHub link https://github.com/AngelieFrias/Diamonds-Price-Prediction to download the pbix document if you wish to."
   ]
  },
  {
   "attachments": {
    "Hack_FinalDashboard.png": {
     "image/png": "[encoded data removed]"
    }
   },
   "cell_type": "markdown",
   "metadata": {},
   "source": [
    "![Hack_FinalDashboard.png](attachment:Hack_FinalDashboard.png)"
   ]
  },
  {
   "cell_type": "code",
   "execution_count": 23,
   "metadata": {},
   "outputs": [],
   "source": [
    "# Saving the cleaned dataset to a CSV\n",
    "clean_df.to_csv('wholesale_diamond_cleaned.csv', index = False)"
   ]
  },
  {
   "cell_type": "markdown",
   "metadata": {},
   "source": [
    "------------\n",
    "## Data Modeling"
   ]
  },
  {
   "cell_type": "markdown",
   "metadata": {},
   "source": [
    " "
   ]
  },
  {
   "cell_type": "markdown",
   "metadata": {},
   "source": [
    "We now have to convert categorical data values to numerical data values. We use one-hot encoding to convert categorical data into a binary vector using the get_dummies function. With one-hot encoding, we convert each categorical value into a new categorical column and assign a binary value of 1 or 0 to those columns. All the values are zero, and the index is marked with a 1."
   ]
  },
  {
   "cell_type": "code",
   "execution_count": 24,
   "metadata": {},
   "outputs": [],
   "source": [
    "# One-hot encoding \n",
    "cut = pd.get_dummies(clean_df.cut, prefix=\"\", columns=['cut'], drop_first = False)\n",
    "del clean_df[\"cut\"]\n",
    "color = pd.get_dummies(clean_df.color, prefix=\"\", columns=['color'], drop_first = False)\n",
    "del clean_df[\"color\"]\n",
    "clarity = pd.get_dummies(clean_df.clarity, prefix=\"\", columns=['clarity'], drop_first = False)\n",
    "del clean_df[\"clarity\"]\n",
    "\n",
    "# Adding new columns from one-hot encoding to clean_df\n",
    "clean_df= pd.concat([clean_df, cut, color, clarity], axis=1)"
   ]
  },
  {
   "cell_type": "markdown",
   "metadata": {},
   "source": [
    "We need to split the dataset into train and test sets to evaluate how well our machine learning model performs. The train set is used to fit the model and the test set is used to test our model's prediction. We will split our dataset into input (X) and output (y). The size of the split is set to 0.20, where 20 percent of the dataset will be allocated to the test set and 80 percent will be allocated to the training set."
   ]
  },
  {
   "cell_type": "code",
   "execution_count": 25,
   "metadata": {},
   "outputs": [],
   "source": [
    "# Defining cost (dollars) as output (y) \n",
    "y = clean_df[\"cost (dollars)\"]\n",
    "\n",
    "# Deleting cost (dollars) from the dataset\n",
    "del clean_df[\"cost (dollars)\"]\n",
    "\n",
    "# Defining all other features as input (x)\n",
    "X = clean_df\n",
    "\n",
    "# Splitting the dataset into train and test set\n",
    "X_train, X_test, y_train, y_test = train_test_split(X, y, test_size=0.20)"
   ]
  },
  {
   "cell_type": "markdown",
   "metadata": {},
   "source": [
    "We chose Random Forest Regression as our machine learning model because it provides higher accuracy through cross validation. n_estimators=100 is the number of trees we want to build before taking the maximum voting or averages of predictions. The higher the number of trees, the better the model's performance because they make predictions stronger and more stable.  "
   ]
  },
  {
   "cell_type": "code",
   "execution_count": 26,
   "metadata": {},
   "outputs": [],
   "source": [
    "# Building random forest regression model\n",
    "regressor = RandomForestRegressor(n_estimators=100, random_state=0)\n",
    "\n",
    "# Fitting the model to X_train and y_train\n",
    "regressor.fit(X_train, y_train)\n",
    "\n",
    "# Making predictions\n",
    "y_pred = regressor.predict(X_test)"
   ]
  },
  {
   "cell_type": "markdown",
   "metadata": {},
   "source": [
    "###### Reggresion Evaluation Metrics\n",
    "\n",
    "Mean Absolute Error (MAE): measures the absolute average distance between the real data and the predicted data.\n",
    "Mean Square Error (MSE): measures the squared average distance between the real data and the predicted data.\n",
    "Root Mean Squared Error (RMSE): measures how much error there is between the real data and the predicted data.\n",
    "R^2 Value: measures how close the data are to the fitted regression line."
   ]
  },
  {
   "cell_type": "code",
   "execution_count": 27,
   "metadata": {},
   "outputs": [
    {
     "name": "stdout",
     "output_type": "stream",
     "text": [
      "Mean Absolute Error: 139.2341108943199\n",
      "Mean Squared Error: 57104.23499715787\n",
      "Root Mean Squared Error: 238.96492419842264\n",
      "R^2 Value: 0.9951316517228981\n"
     ]
    }
   ],
   "source": [
    "# Evaluating random forest regression model\n",
    "print ('Mean Absolute Error:' , metrics.mean_absolute_error(y_test, y_pred))\n",
    "print ('Mean Squared Error:', metrics.mean_squared_error(y_test, y_pred))\n",
    "print ('Root Mean Squared Error:', np.sqrt(metrics.mean_squared_error(y_test, y_pred)))   \n",
    "print ('R^2 Value:', r2_score(y_test, y_pred))"
   ]
  },
  {
   "cell_type": "markdown",
   "metadata": {},
   "source": [
    "The scatter plot displays the actual values along the X-axis, and displays the predicted values along the Y-axis."
   ]
  },
  {
   "cell_type": "code",
   "execution_count": 32,
   "metadata": {},
   "outputs": [
    {
     "data": {
      "image/png": "[encoded data removed]",
      "text/plain": [
       "<Figure size 720x504 with 1 Axes>"
      ]
     },
     "metadata": {},
     "output_type": "display_data"
    }
   ],
   "source": [
    "# Creating scatter plot\n",
    "plt.figure(figsize=(10,7))\n",
    "plt.scatter(y_test, y_pred)\n",
    "plt.title('Diamond Cost (Dollars)', fontsize=15, fontweight='bold')\n",
    "plt.xlabel('Actual', fontsize=12, fontweight='bold')\n",
    "plt.ylabel('Predicted', fontsize=12, fontweight='bold')\n",
    "plt.show()"
   ]
  },
  {
   "cell_type": "markdown",
   "metadata": {},
   "source": [
    "##### Saving Model to use in App"
   ]
  },
  {
   "cell_type": "code",
   "execution_count": 35,
   "metadata": {},
   "outputs": [],
   "source": [
    "# Saving the Model so it can be used in Streamlit App\n",
    "pickle_out = open('regressor.pkl', 'wb') \n",
    "pickle.dump(regressor, pickle_out) \n",
    "pickle_out.close()"
   ]
  },
  {
   "cell_type": "markdown",
   "metadata": {},
   "source": [
    "------------\n",
    "## Using the Data Model"
   ]
  },
  {
   "cell_type": "markdown",
   "metadata": {},
   "source": [
    "Please note that due to the fact that Streamlit Apps can only be deployed through GitHub (and some bugs with Stremlit), we are unable to deploy the functioning app. The pickled file does not read with Streamlit. Use the following link to see how the Streamlit app works (without deployment): https://drive.google.com/file/d/1iW1buUoFDCUJXVclrLlN4WfFUh_HZgUd/view?usp=sharing. Please note that the video may be low quality due to Streamlit's screen-recording function."
   ]
  },
  {
   "cell_type": "markdown",
   "metadata": {},
   "source": [
    "You can view the app using the following link (but please note that the 'prediction' functions do not work because of reasons listed above): https://share.streamlit.io/angeliefrias/diamonds-price-prediction/main/Diamonds_RandomForest.py"
   ]
  }
 ],
 "metadata": {
  "kernelspec": {
   "display_name": "Python 3 (ipykernel)",
   "language": "python",
   "name": "python3"
  },
  "language_info": {
   "codemirror_mode": {
    "name": "ipython",
    "version": 3
   },
   "file_extension": ".py",
   "mimetype": "text/x-python",
   "name": "python",
   "nbconvert_exporter": "python",
   "pygments_lexer": "ipython3",
   "version": "3.9.7"
  }
 },
 "nbformat": 4,
 "nbformat_minor": 4
}
